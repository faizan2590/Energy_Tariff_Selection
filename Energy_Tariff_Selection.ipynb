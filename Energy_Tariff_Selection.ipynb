{
 "cells": [
  {
   "cell_type": "code",
   "execution_count": 76,
   "metadata": {},
   "outputs": [
    {
     "name": "stdout",
     "output_type": "stream",
     "text": [
      "    price comparator    \n",
      "========================\n"
     ]
    }
   ],
   "source": [
    "\n",
    "\n",
    "print(\"    price comparator    \")\n",
    "print(\"========================\")\n",
    "\n",
    "\n",
    "class Electric_Co(object):\n",
    "    def __init__(self, name , location):\n",
    "        self.name = name\n",
    "        self.location = location\n",
    "\n",
    "\n",
    "class tariff(Electric_Co):\n",
    "\n",
    "    def __init__(self,name , location, t_name, pvt_price, com_price, Gen_type):\n",
    "        self.t_name = t_name\n",
    "        self.pvt_price = pvt_price;\n",
    "        self.com_price = com_price;\n",
    "        self.Gen_type = Gen_type;\n",
    "        super(tariff, self).__init__(name , location)\n",
    "\n",
    "    def __str__ (self):\n",
    "        return (\"Tariff Name = \" + self.t_name + \", Price = [ \"+ str(self.price)+ \" ], \" + \"Generation Type = \" + self.Gen_type)\n",
    "\n",
    "class bill(object):\n",
    "    def __init__(self, userid, monthly_Consumption, month):\n",
    "        self.userid = userid;\n",
    "        self.monthly_Consumption = monthly_Consumption;\n",
    "        self.month = month;\n",
    "\n",
    "class user(bill):\n",
    "    def __init__(self,userid, name, occupants, C_Type, location , G_type, monthly_Consumption, month):\n",
    "        self.userid = userid;\n",
    "        self.name = name;\n",
    "        self.occupants = occupants;\n",
    "        self.C_Type = C_Type;\n",
    "        self.location = location;\n",
    "        self.G_type = G_type\n",
    "        super(user, self).__init__(userid, monthly_Consumption, month)\n",
    "\n",
    "\n",
    "\n",
    "class calc_price:\n",
    "\n",
    "    def price_comparator_text(self, tariffa , usera ):\n",
    "        T_p=0;\n",
    "        if tariffa.Gen_type == usera.G_type or usera.G_type == 'ANY':\n",
    "            if usera.C_Type == 'Pvt':\n",
    "                T_p = (tariffa.pvt_price/100) * usera.monthly_Consumption;\n",
    "            else:\n",
    "                T_p = (tariffa.com_price/100) * usera.monthly_Consumption;\n",
    "            print(\"Company Name: \" + tariffa.name + \" , Tariff: \" + tariffa.t_name + \" , Price: \" + str(T_p) + \" Euros/Month\");\n",
    "\n",
    "            return T_p,tariffa.t_name,tariffa.name\n",
    "        else:\n",
    "            #print (\"Parameters Doesn't Match\")\n",
    "            T_p=None;\n",
    "            return T_p,tariffa.t_name,tariffa.name\n"
   ]
  },
  {
   "cell_type": "code",
   "execution_count": 77,
   "metadata": {
    "collapsed": true
   },
   "outputs": [],
   "source": [
    "## Object For Electric Companies ( Name ,\n",
    "Elect_Com = []\n",
    "Elect_Com.append(tariff(\"ENTEGA\",['Freiburg','Stuttgart','Karlsruhe','Frankfurt','Berlin','Munich'] , \"GrunerTraum\" , 7.12 , 9.12, \"Green\" ))\n",
    "Elect_Com.append(tariff(\"Eon\",['Freiburg','Stuttgart','Karlsruhe','Frankfurt','Berlin','Munich'] , \"Grun_Energien\" , 7.45 , 9.45, \"Green\" ))\n",
    "Elect_Com.append(tariff(\"Badenova\",['Freiburg','Stuttgart','Karlsruhe','Frankfurt'] , \"Express_Package\" , 6.25 ,8.25, \"Mixed\"))\n",
    "Elect_Com.append(tariff(\"EnBW\",['Freiburg','Stuttgart','Karlsruhe','Frankfurt'] , \"EnBW_Package\" , 6.95, 8.95 , \"Mixed\"))"
   ]
  },
  {
   "cell_type": "code",
   "execution_count": 78,
   "metadata": {
    "collapsed": true
   },
   "outputs": [],
   "source": [
    "## Object For Consumers ( USERId, Name , Occupants , Type of Consumer , Location , Generation Type Needed , Monthly Consumption , Month )\n",
    "User_Profile = []\n",
    "User_Profile.append( user(\"123\",\"Jack\",3,\"Pvt\",\"Freiburg\",\"Green\",300,1))\n",
    "User_Profile.append(user(\"125\",\"Jone\",100,\"Com\",\"Freiburg\",\"Mixed\",1500,1))\n",
    "User_Profile.append(user(\"127\",\"Tom\",5,\"Pvt\",\"Stuttgart\",\"Mixed\",450,1))\n",
    "User_Profile.append(user(\"129\",\"Julia\",1,\"Pvt\",\"Karlsruhe\",\"ANY\",200,1))"
   ]
  },
  {
   "cell_type": "code",
   "execution_count": 117,
   "metadata": {},
   "outputs": [
    {
     "name": "stdout",
     "output_type": "stream",
     "text": [
      "Company Name: Badenova , Tariff: Express_Package , Price: 28.125 Euros/Month\n",
      "Company Name: EnBW , Tariff: EnBW_Package , Price: 31.275000000000002 Euros/Month\n"
     ]
    }
   ],
   "source": [
    "## Calculate Prices for Single Consumer based on its choice\n",
    "cp=calc_price\n",
    "best=[]\n",
    "for x in range((len(Elect_Com))):\n",
    "    best.append(cp().price_comparator_text(Elect_Com[x], User_Profile[2] ))"
   ]
  },
  {
   "cell_type": "code",
   "execution_count": 118,
   "metadata": {
    "scrolled": true
   },
   "outputs": [
    {
     "name": "stdout",
     "output_type": "stream",
     "text": [
      "[(None, 'GrunerTraum', 'ENTEGA'), (None, 'Grun_Energien', 'Eon'), (28.125, 'Express_Package', 'Badenova'), (31.275000000000002, 'EnBW_Package', 'EnBW')]\n"
     ]
    }
   ],
   "source": [
    "print (best)"
   ]
  },
  {
   "cell_type": "code",
   "execution_count": 119,
   "metadata": {},
   "outputs": [
    {
     "name": "stdout",
     "output_type": "stream",
     "text": [
      "[(None, None, 28.125, 31.275000000000002), ('GrunerTraum', 'Grun_Energien', 'Express_Package', 'EnBW_Package'), ('ENTEGA', 'Eon', 'Badenova', 'EnBW')]\n"
     ]
    }
   ],
   "source": [
    "## Best Offer Available\n",
    "best = list(zip(*best)) #UNZIP\n",
    "print (best)"
   ]
  },
  {
   "cell_type": "code",
   "execution_count": 120,
   "metadata": {},
   "outputs": [
    {
     "name": "stdout",
     "output_type": "stream",
     "text": [
      "28.125\n"
     ]
    }
   ],
   "source": [
    "bestp = best[0] #best price\n",
    "bestpac = best[1] #best package\n",
    "bestcom = best[2] #best company\n",
    "#min_price= min(best[0])\n",
    "min_price = min(i for i in bestp if i is not None)\n",
    "print (min_price)\n"
   ]
  },
  {
   "cell_type": "code",
   "execution_count": 121,
   "metadata": {},
   "outputs": [
    {
     "name": "stdout",
     "output_type": "stream",
     "text": [
      "Best Price: 28.125 of Package: Express_Package from Comapany: Badenova\n"
     ]
    }
   ],
   "source": [
    "for y in(range((len(Elect_Com)))): # loop for finding best package and company for user.\n",
    "   if bestp[y] == min_price:\n",
    "       print (\"Best Price: \" + str(bestp[y]) + \" of Package: \" + bestpac[y] + \" from Comapany: \" + bestcom[y])"
   ]
  },
  {
   "cell_type": "code",
   "execution_count": null,
   "metadata": {
    "collapsed": true
   },
   "outputs": [],
   "source": []
  },
  {
   "cell_type": "code",
   "execution_count": null,
   "metadata": {
    "collapsed": true
   },
   "outputs": [],
   "source": []
  }
 ],
 "metadata": {
  "kernelspec": {
   "display_name": "Python 3",
   "language": "python",
   "name": "python3"
  },
  "language_info": {
   "codemirror_mode": {
    "name": "ipython",
    "version": 3
   },
   "file_extension": ".py",
   "mimetype": "text/x-python",
   "name": "python",
   "nbconvert_exporter": "python",
   "pygments_lexer": "ipython3",
   "version": "3.6.3"
  }
 },
 "nbformat": 4,
 "nbformat_minor": 2
}
